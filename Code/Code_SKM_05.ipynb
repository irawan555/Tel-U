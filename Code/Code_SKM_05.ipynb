{
  "nbformat": 4,
  "nbformat_minor": 0,
  "metadata": {
    "colab": {
      "provenance": []
    },
    "kernelspec": {
      "name": "python3",
      "display_name": "Python 3"
    },
    "language_info": {
      "name": "python"
    }
  },
  "cells": [
    {
      "cell_type": "code",
      "execution_count": null,
      "metadata": {
        "id": "Q9NfZSQAyp7C"
      },
      "outputs": [],
      "source": [
        "#define BLYNK_TEMPLATE_ID \"TMPL6_JZBZRs8\"\n",
        "#define BLYNK_TEMPLATE_NAME \"Temperature Control\"\n",
        "#define BLYNK_AUTH_TOKEN \"cbi1vmqh1nnjDEvDvOwemutMz-Cl0atP\" // Ganti dengan token otentikasi Blynk Anda\n",
        "#include <ESP8266WiFi.h> // library esp 2866 /wemos\n",
        "#include <BlynkSimpleEsp8266.h>//lbiirary blynk\n",
        "#include <DHT.h> //librray buat sensor dht\n",
        "#include <Relay.h>// library relay\n",
        "\n",
        "#define DHTPIN D6 //mendeklarasikan pin yang bakal dipakai\n",
        "#define DHTTYPE DHT11 //nentuin type dht\n",
        "#define relay D0 // Ganti dengan pin aktual yang terhubung ke relay\n",
        "\n",
        "\n",
        "char auth[] = \"cbi1vmqh1nnjDEvDvOwemutMz-Cl0atP\";// autentikasi wifi\n",
        "char ssid[] = \"IoT\";//wifi\n",
        "char password[] = \"IoT12345\";//wifi\n",
        "\n",
        "\n",
        "DHT dht(DHTPIN, DHTTYPE); //get dht\n",
        "\n",
        "void setup() {\n",
        "  Serial.begin(115200);//baud rate buat nentuin baud rate untuk koneksi ke wemos\n",
        "  pinMode(relay, OUTPUT);//nentuin mode pin sbg output\n",
        "  dht.begin();// jalanin dht\n",
        "  Blynk.begin(auth, ssid, password);//konek ke wifi\n",
        "\n",
        "  while (WiFi.status() != WL_CONNECTED) {//perulangan cek status wifi\n",
        "    delay(500);\n",
        "    Serial.print(\".\");\n",
        "  }\n",
        "\n",
        "  Serial.println(\"\");\n",
        "  Serial.println(\"WiFi tersambung!\");\n",
        "  Serial.println(\"Blynk tersambung!\");\n",
        "}\n",
        "\n",
        "void loop() {\n",
        "    // SENSOR DHT\n",
        "    float suhu = dht.readTemperature();     // Baca suhu dalam Celcius\n",
        "    float kelembaban = dht.readHumidity();  // Baca kelembaban relatif\n",
        "    if (isnan(kelembaban) || isnan(suhu)) {//logic membaca dari sensor kelembapan dan suhu\n",
        "      Serial.println(F(\"Gagal membaca dari sensor DHT!\"));\n",
        "      return;\n",
        "    }\n",
        "\n",
        "    Serial.print(\"Suhu: \");\n",
        "    Serial.print(suhu);\n",
        "    Serial.println(\" C\");\n",
        "\n",
        "    Serial.print(\"Kelembaban: \");\n",
        "    Serial.print(kelembaban);\n",
        "    Serial.println(\"%\");\n",
        "    Blynk.virtualWrite(V0, suhu);        // Menampilkan hasil suhu pada Blynk MENGGunakan pin V0\n",
        "    Blynk.virtualWrite(V1, kelembaban); // menampilkan hasil kemlembapan di blynk menggunakan pin V1\n",
        "\n",
        "  // Logika kontrol berdasarkan suhu (ganti dengan logika yang diinginkan)\n",
        "  if (suhu > 30) {\n",
        "    Serial.println(\"Panas\");\n",
        "    Serial.println(\"Kipas On\");\n",
        "    digitalWrite(relay, LOW);//kenapa low ? karena kondisi di awal alat pas hidup relaynya udah high\n",
        "  } else {\n",
        "    digitalWrite(relay, HIGH); // Matikan relay (asumsi relay aktif pada HIGH)\n",
        "    Serial.println(\"Kipas off\");\n",
        "  }\n",
        "\n",
        "  delay(2000); // delay 2 detik untuk pembacaan sensor\n",
        "  Blynk.run(); // blynk berjalan\n",
        "}"
      ]
    }
  ]
}